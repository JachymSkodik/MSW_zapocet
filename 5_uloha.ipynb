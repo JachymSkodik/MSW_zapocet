{
  "nbformat": 4,
  "nbformat_minor": 0,
  "metadata": {
    "colab": {
      "provenance": []
    },
    "kernelspec": {
      "name": "python3",
      "display_name": "Python 3"
    },
    "language_info": {
      "name": "python"
    }
  },
  "cells": [
    {
      "cell_type": "markdown",
      "source": [
        "# **Úloha 5 – Hledání kořenů rovnice**"
      ],
      "metadata": {
        "id": "xbUor7cDvKja"
      }
    },
    {
      "cell_type": "code",
      "execution_count": 1,
      "metadata": {
        "colab": {
          "base_uri": "https://localhost:8080/"
        },
        "id": "QEH2XrbqvI8l",
        "outputId": "82509e34-7b82-469c-c4f0-bff042cf1f10"
      },
      "outputs": [
        {
          "output_type": "stream",
          "name": "stdout",
          "text": [
            "Kořen funkce f0 | ohraničená metoda: 1.9999999999993179 | chyba: -6.821210263296962e-13 | doba hledání kořenu: 0.100736 ms\n",
            "Kořen funkce f1 | ohraničená metoda: -3.000000000000682 | chyba: -6.821210263296962e-13 | doba hledání kořenu: 0.184784 ms\n",
            "Kořen funkce f2 | ohraničená metoda: 3.9999999999997726 | chyba: -2.2737367544323206e-13 | doba hledání kořenu: 2.35936 ms\n",
            "\n",
            "\n",
            "Kořen funkce f0 | neohraničená metoda: 1.9999999999999993 | chyba: -6.661338147750939e-16 | doba hledání kořenu: 0.065275 ms\n",
            "Kořen funkce f1 | neohraničená metoda: -3.0 | chyba: 0.0 | doba hledání kořenu: 0.070547 ms\n",
            "Kořen funkce f2 | neohraničená metoda: 4.0 | chyba: 0.0 | doba hledání kořenu: 0.063388 ms\n",
            "\n",
            "\n",
            "Neohraničená metoda (Brentova) nalezla kořeny daných rovnic mnohem rychleji.\n",
            "Přesnost u neohraničené metody je o trochu vyšší.\n"
          ]
        }
      ],
      "source": [
        "### Hledání kořenů rovnice\n",
        "\n",
        "import numpy as np\n",
        "from scipy.optimize import root_scalar\n",
        "import timeit\n",
        "\n",
        "# Polynomiální funkce\n",
        "def f0(x):\n",
        "    return 3*x**3 - 3*x**2 - 5*x - 2\n",
        "\n",
        "# Logaritmická funkce\n",
        "def f1(x):\n",
        "    return np.log(8*2**x)\n",
        "\n",
        "# Harmonická funkce\n",
        "def f2(x):\n",
        "    return np.sin(np.pi*x) + x - 4\n",
        "\n",
        "# Funkce na hledání kořenů funkce\n",
        "def time_root_scalar(f, method, bracket):\n",
        "    start_time = timeit.default_timer()\n",
        "    root = root_scalar(f, method=method, bracket=bracket).root\n",
        "    end_time = timeit.default_timer()\n",
        "    time_taken = end_time - start_time\n",
        "    \n",
        "    return time_taken, root\n",
        "\n",
        "\n",
        "# Použijeme ohraničenou metodu bisect (půlení intervalu)\n",
        "# Použijeme neohraničenou metodu brentq (Brentova metoda – kombinace půlení intervalu a inverzní kvadratické interpolace)\n",
        "for m, method in [(\"ohraničená metoda\", \"bisect\"), (\"neohraničená metoda\", \"brentq\")]:\n",
        "    for i, (f, res) in enumerate([(f0, 2), (f1, -3), (f2, 4)]):\n",
        "        time, root = time_root_scalar(f, method=method, bracket=[-10, 10])\n",
        "        print(f\"Kořen funkce f{i} | {m}: {root} | chyba: {root - res} | doba hledání kořenu: {round(1000*time, 8)} ms\")\n",
        "    print(\"\\n\")\n",
        "\n",
        "print(\"Neohraničená metoda (Brentova) nalezla kořeny daných rovnic mnohem rychleji.\")\n",
        "print(\"Přesnost u neohraničené metody je o trochu vyšší.\")"
      ]
    }
  ]
}