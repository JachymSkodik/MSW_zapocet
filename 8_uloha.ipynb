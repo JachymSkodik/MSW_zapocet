{
  "nbformat": 4,
  "nbformat_minor": 0,
  "metadata": {
    "colab": {
      "provenance": []
    },
    "kernelspec": {
      "name": "python3",
      "display_name": "Python 3"
    },
    "language_info": {
      "name": "python"
    }
  },
  "cells": [
    {
      "cell_type": "markdown",
      "source": [
        "# **Úloha 8 – Derivace funkce jedné proměnné**"
      ],
      "metadata": {
        "id": "INJVZ-1hwQJm"
      }
    },
    {
      "cell_type": "code",
      "execution_count": 2,
      "metadata": {
        "id": "-wvnKy3zwM06"
      },
      "outputs": [],
      "source": [
        "### Derivace funkce jedné proměnné\n",
        "\n",
        "import numpy as np\n",
        "\n",
        "# Definujeme si různé funkce, budeme počítat jejich derivaci v bodě 0\n",
        "x = 0\n",
        "f0 = lambda x: np.sin(x)\n",
        "f1 = lambda x: np.e**(2*x)\n",
        "f2 = lambda x: 3**x"
      ]
    },
    {
      "cell_type": "markdown",
      "source": [
        "Analytické řešení:\n",
        "$\\def\\doubleunderline#1{\\underline{\\underline{#1}}}$\n",
        "\n",
        "$f_0(x)=\\sin{x}$\n",
        "\n",
        "$f_1(x)=e^{2x}$\n",
        "\n",
        "$f_2(x)=3^x$\n",
        "\n",
        "$\\rule{100pt}{1pt}$\n",
        "\n",
        "$f'_0(0)=(\\sin{x})'=\\cos{x}=\\cos{0}=\\doubleunderline{1}$\n",
        "\n",
        "$f'_1(0)=(e^{2x})'=e^{2x}\\cdot (2x)'=2e^{2x}=2e^0=\\doubleunderline{2}$\n",
        "\n",
        "$f'_2(0)=(3^x)'=3^x\\cdot \\ln{3}=3^0\\cdot \\ln{3}=\\ln{3}\\approx \\doubleunderline{1.0986}$"
      ],
      "metadata": {
        "id": "ozRDWsOZwclz"
      }
    },
    {
      "cell_type": "code",
      "source": [
        "import timeit\n",
        "\n",
        "# Tato funkce Vypočítá derivaci funkce f v bodě x s adaptabilním krokem pomocí Richardsonovy extrapolace\n",
        "def adapt_step(f, x, hmin=1e-6, hmax=1, tol=1e-6):\n",
        "    \n",
        "    # Počáteční krok\n",
        "    h = hmax\n",
        "    \n",
        "    # Připravíme pole pro aproximace s různými kroky\n",
        "    D = np.zeros((10, 10))\n",
        "    \n",
        "    # Aplikujeme Richardsonovu extrapolační metodu\n",
        "    for i in range(10):\n",
        "        # Vypočítáme aproximaci derivace s různými kroky\n",
        "        D[i, 0] = (f(x + h) - f(x - h)) / (2 * h)\n",
        "        for j in range(1, i + 1):\n",
        "            D[i, j] = (4 ** j * D[i, j-1] - D[i-1, j-1]) / (4 ** j - 1)\n",
        "        \n",
        "        # Zkontrolujeme, zda jsou aproximace dostatečně přesné\n",
        "        if i > 1:\n",
        "            err = np.abs(D[i, i-1] - D[i-1, i-2])\n",
        "            if err < tol:\n",
        "                return D[i, i-1]\n",
        "        \n",
        "        # Upravíme krok\n",
        "        if h / 2 >= hmin:\n",
        "            h /= 2\n",
        "    \n",
        "    # Pokud jsme nedosáhli požadované přesnosti, vrátíme nejpřesnější aproximaci\n",
        "    return D[-1, -1]\n",
        "\n",
        "# Tato funkce vypočítá derivaci funkce f v bodě x se statickým krokem\n",
        "def static_step(f, x, h=1e-6):\n",
        "    return (f(x + h) - f(x - h)) / (2 * h)\n",
        "\n",
        "\n",
        "for m, method in [(\"Adaptabilní krok\", adapt_step), (\"Statický krok\", static_step)]:\n",
        "    for i, (f, res) in enumerate([(f0, 1), (f1, 2), (f2, np.log(3))]):\n",
        "        print(f\"f{i} | {m}: {method(f, x)} | chyba: {method(f, x) - res} | doba řešení: {round(1000*timeit.timeit(lambda: method(f, x), number=10), 8)} ms\")\n",
        "    print(\"\\n\")\n",
        "\n",
        "print(\"Derivace s adaptabilním krokem je u 2 ze 3 funkcí o trochu přesnější.\")\n",
        "print(\"Derivace se statickým krokem je ovšem mnohem rychlejší.\")"
      ],
      "metadata": {
        "colab": {
          "base_uri": "https://localhost:8080/"
        },
        "id": "fzPh_d_0wdbh",
        "outputId": "bc5c2678-fc52-4677-9c72-33310e6094c3"
      },
      "execution_count": 3,
      "outputs": [
        {
          "output_type": "stream",
          "name": "stdout",
          "text": [
            "f0 | Adaptabilní krok: 0.9999999999973799 | chyba: -2.6201263381153694e-12 | doba řešení: 0.66466 ms\n",
            "f1 | Adaptabilní krok: 2.000000000000045 | chyba: 4.4853010194856324e-14 | doba řešení: 0.620011 ms\n",
            "f2 | Adaptabilní krok: 1.0986122886619616 | chyba: -6.148193065769192e-12 | doba řešení: 1.490347 ms\n",
            "\n",
            "\n",
            "f0 | Statický krok: 0.9999999999998334 | chyba: -1.66644475996236e-13 | doba řešení: 0.048733 ms\n",
            "f1 | Statický krok: 2.000000000002 | chyba: 2.000177801164682e-12 | doba řešení: 0.013416 ms\n",
            "f2 | Statický krok: 1.0986122886968985 | chyba: 2.8788749162345084e-11 | doba řešení: 0.011609 ms\n",
            "\n",
            "\n",
            "Derivace s adaptabilním krokem je u 2 ze 3 funkcí o trochu přesnější.\n",
            "Derivace se statickým krokem je ovšem mnohem rychlejší.\n"
          ]
        }
      ]
    }
  ]
}