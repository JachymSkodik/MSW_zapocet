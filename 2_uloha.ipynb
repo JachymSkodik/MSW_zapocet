{
  "nbformat": 4,
  "nbformat_minor": 0,
  "metadata": {
    "colab": {
      "provenance": []
    },
    "kernelspec": {
      "name": "python3",
      "display_name": "Python 3"
    },
    "language_info": {
      "name": "python"
    }
  },
  "cells": [
    {
      "cell_type": "markdown",
      "source": [
        "# **Úloha 2 – Vizualizace dat**"
      ],
      "metadata": {
        "id": "D9vpKtRaq2C7"
      }
    },
    {
      "cell_type": "markdown",
      "source": [
        "Analýza a vizualizace dat pomocí knihoven `matplotlib` a `plotly`. Budu pracovat s datasetem obsahujícím údaje o vnitrostátních letech aerolinky AirIndia od fiskálního roku 2014 do fiskálního roku 2023.\n",
        "\n",
        "\n",
        "1.   Month – měsíc\n",
        "2.   Departures – celkový počet odletů za daný měsíc\n",
        "3.   Hours – počet nalétaných hodin za daný měsíc\n",
        "4.   Kilometers – počet nalétaných kilometrů za daný měsíc (v milionech)\n",
        "5.   Passengers – počet pasažérů za daný měsíc (v milionech)\n",
        "6.   Passenger_kms – násobek pasažérů a nalétaných kilometrů za daný měsíc (v milionech)\n",
        "7.   Available_seat_kms – násobek dostupných sedadel a nalétaných kilometrů za daný měsíc (v milionech)\n",
        "8.   Occupied_seats_% – procento obsazených sedadel z celkového počtu dostupých sedadel za daný měsíc\n",
        "9.   FYear – fiskální rok"
      ],
      "metadata": {
        "id": "VYMGzlgPrBeR"
      }
    },
    {
      "cell_type": "code",
      "execution_count": null,
      "metadata": {
        "id": "vyx6LoIhqqwq"
      },
      "outputs": [],
      "source": [
        "### Úprava dat do použitelné podoby\n",
        "\n",
        "import pandas as pd\n",
        "\n",
        "data = pd.read_csv(\"airindia_domestic.csv\")\n",
        "data = data.dropna()\n",
        "data.columns = [\"Month\", \"Departures\", \"Hours\", \"Kilometers\", \"Passengers\", \"Passenger_kms\", \"Available_seat_kms\", \"Occupied_seats_%\", \"FYear\"]\n",
        "data[\"Kilometers\"] = data[\"Kilometers\"]/1000\n",
        "data[\"Passengers\"] = data[\"Passengers\"]/1000000\n",
        "data[\"Passenger_kms\"] = data[\"Passenger_kms\"]/1000\n",
        "data[\"Available_seat_kms\"] = data[\"Available_seat_kms\"]/1000\n",
        "data[\"Month\"] = data[\"Month\"].str.cat(data[\"FYear\"], sep=\" \")\n",
        "\n",
        "print(data)"
      ]
    },
    {
      "cell_type": "code",
      "source": [
        "### Liniové subploty se základním přehledem\n",
        "\n",
        "import numpy as np\n",
        "import matplotlib.pyplot as plt\n",
        "import matplotlib.ticker as mtick\n",
        "\n",
        "month = data[\"Month\"]\n",
        "years = np.unique([m[-4:] for m in month])\n",
        "\n",
        "plt.figure(figsize=(18, 12))\n",
        "\n",
        "plt.subplot(231)\n",
        "plt.plot(month, data[\"Departures\"])\n",
        "plt.xticks(np.arange(0, len(month), 12), years)\n",
        "plt.title(\"Celkový počet odletů\", fontsize=15)\n",
        "\n",
        "plt.subplot(232)\n",
        "plt.plot(month, data[\"Hours\"])\n",
        "plt.xticks(np.arange(0, len(month), 12), years)\n",
        "plt.title(\"Celkový počet hodin letu\", fontsize=15)\n",
        "\n",
        "plt.subplot(233)\n",
        "plt.plot(month, data[\"Kilometers\"])\n",
        "plt.xticks(np.arange(0, len(month), 12), years)\n",
        "plt.title(\"Celkový počet nalétaných kilometrů\\n(v milionech)\", fontsize=15)\n",
        "\n",
        "plt.subplot(234)\n",
        "plt.plot(month, data[\"Passengers\"])\n",
        "plt.xticks(np.arange(0, len(month), 12), years)\n",
        "plt.title(\"Celkový počet pasažérů (v milionech)\", fontsize=15)\n",
        "\n",
        "plt.subplot(235)\n",
        "plt.plot(month, data[\"Available_seat_kms\"])\n",
        "plt.xticks(np.arange(0, len(month), 12), years)\n",
        "plt.title(\"Celkový počet dostupných sedadel\\nna kilometr (v milionech)\", fontsize=15)\n",
        "\n",
        "plt.subplot(236)\n",
        "plt.plot(month, data[\"Occupied_seats_%\"])\n",
        "plt.xticks(np.arange(0, len(month), 12), years)\n",
        "plt.title(\"Procento obsazených sedadel\", fontsize=15)\n",
        "frmt = \"%.0f%%\"\n",
        "yticks = mtick.FormatStrFormatter(frmt)\n",
        "plt.gca().yaxis.set_major_formatter(yticks)\n",
        "\n",
        "plt.subplots_adjust(hspace=0.3)\n",
        "\n",
        "plt.suptitle(\"Přehled základních údajů v čase – aerolinky AirIndia\\nFiskální roky 2014–2023\", fontsize=18)\n",
        "plt.show()\n"
      ],
      "metadata": {
        "id": "ov5JDVFMrlgB"
      },
      "execution_count": null,
      "outputs": []
    },
    {
      "cell_type": "markdown",
      "source": [
        "U všech těchto grafů můžeme pozorovat sezónní výkyvy, a jelikož všechny tyto údaje (kromě procenta obsazených sedadel) mezi sebou zjevně korelují, nastavají tyto sezónní výkyvy přibližně ve stejné měsíce.\n",
        "\n",
        "Dále můžeme ve všech grafech pozorovat mírný růst až do fiskálního roku 2021 (duben 2020 až duben 2021), kdy nastal obrovský propad, zřejmě kvůli pandemii COVID-19. Druhý velký propad byl zaznamenán ve fiskálním roce 2022, kdy byla zavedena další sada protiepidemických opatření."
      ],
      "metadata": {
        "id": "egxQwGB9rqIZ"
      }
    },
    {
      "cell_type": "code",
      "source": [
        "### Histogram – obsazená sedadla\n",
        "\n",
        "import matplotlib.pyplot as plt\n",
        "import numpy as np\n",
        "\n",
        "seats = data[\"Occupied_seats_%\"]\n",
        "seats = seats[seats != 0]\n",
        "\n",
        "plt.hist(seats, bins=20, range=None, density=True, color=\"green\")\n",
        "plt.xlabel(\"Obsazená sedadla\")\n",
        "plt.ylabel(\"Četnost\")\n",
        "plt.title(\"Procento obsazených sedadel – histogram\")\n",
        "frmt = \"%.0f%%\"\n",
        "xticks = mtick.FormatStrFormatter(frmt)\n",
        "plt.gca().xaxis.set_major_formatter(xticks)\n",
        "\n",
        "plt.show()"
      ],
      "metadata": {
        "id": "vknkGLWbrmbO"
      },
      "execution_count": null,
      "outputs": []
    },
    {
      "cell_type": "markdown",
      "source": [
        "Z histogramu můžeme vidět, že za normální situace bývá nejčastěji obsazeno okolo 80 % veškerých sedadel. Do histogramu jsem nezahrnul nulové hodnoty, které nastaly během pandemie COVID-19, jelikož se nejedná o normální situaci."
      ],
      "metadata": {
        "id": "LMSPGY0mruJz"
      }
    },
    {
      "cell_type": "code",
      "source": [
        "### Scatterplot Matrix – korelace\n",
        "\n",
        "import plotly.figure_factory as ff\n",
        "import pandas as pd\n",
        "import numpy as np\n",
        "\n",
        "corr_data = data[data.columns[1:8]]\n",
        "\n",
        "fig = ff.create_scatterplotmatrix(corr_data, diag=\"histogram\", height=1200, width=1200)\n",
        "fig.update_layout(title=\"Korelace mezi údaji aerolinky AirIndia\")\n",
        "\n",
        "fig.show()"
      ],
      "metadata": {
        "id": "Yny8l04urxNm"
      },
      "execution_count": null,
      "outputs": []
    },
    {
      "cell_type": "markdown",
      "source": [
        "Pomocí `create_scatterplotmatrix()` z knihovny plotly jsme ověřili, že mezi údaji je skutečně jasná korelace. Jediný údaj, kde je korelační koeficient nižší, je `Occupied_seats_%`, tedy procento obsazených sedadel."
      ],
      "metadata": {
        "id": "1kNyg6LKr0cj"
      }
    },
    {
      "cell_type": "code",
      "source": [
        "### Sloupcový graf a groupby\n",
        "\n",
        "import pandas as pd\n",
        "import matplotlib.pyplot as plt\n",
        "\n",
        "months = data[\"Month\"].str[:3]\n",
        "passengers_data = pd.DataFrame({\"Month\": months, \"Passengers\": data[\"Passengers\"]})\n",
        "\n",
        "month_order = [\"JAN\", \"FEB\", \"MAR\", \"APR\", \"MAY\", \"JUN\", \"JUL\", \"AUG\", \"SEP\", \"OCT\", \"NOV\", \"DEC\"]\n",
        "passengers_data[\"Month\"] = pd.Categorical(passengers_data[\"Month\"], categories=month_order, ordered=True)\n",
        "\n",
        "monthly_mean = passengers_data.groupby(\"Month\")[\"Passengers\"].mean()\n",
        "\n",
        "plt.bar(monthly_mean.index, monthly_mean.values)\n",
        "plt.title(\"Průměrný počet pasažérů v každém měsíci (v milionech)\")\n",
        "plt.show()"
      ],
      "metadata": {
        "id": "ksuBZU-ur40l"
      },
      "execution_count": null,
      "outputs": []
    },
    {
      "cell_type": "markdown",
      "source": [
        "Pomocí funkce `groupby()` jsme spočítali průměrný počet pasažérů za každý měsíc za posledních 10 fiskálních let, následně jsme tyto výsledky vizualizovali pomocí sloupcového grafu.\n",
        "\n",
        "Můžeme vidět, že nejvíce pasažérů společnosti AirIndia na území Indie cestuje v zimních měsících. Toto může být z části způsobeno Vánocemi (i když v Indii slaví Vánoce spíše menšina obyvatel) nebo Indickými festivaly Holi a Lohri, které se slaví v zimních měsících. Více lidí tím pádem cestuje za svými rodinami, aby společně oslavovali. Nejméně pasažérů cestuje v létě."
      ],
      "metadata": {
        "id": "Enk712eTr7tS"
      }
    },
    {
      "cell_type": "code",
      "source": [
        "### Vývoj průměrných údajů v čase\n",
        "\n",
        "import numpy as np\n",
        "import matplotlib.pyplot as plt\n",
        "import matplotlib.ticker as mtick\n",
        "\n",
        "month = data[\"Month\"]\n",
        "years = np.unique([m[-4:] for m in month])\n",
        "\n",
        "avg_duration = np.where(data[\"Departures\"] == 0, 0, data[\"Hours\"]/data[\"Departures\"])\n",
        "avg_on_board = np.where(data[\"Departures\"] == 0, 0, data[\"Passengers\"]/data[\"Departures\"]*10**6)\n",
        "\n",
        "plt.figure(figsize=(12, 4))\n",
        "\n",
        "plt.subplot(121)\n",
        "plt.plot(month, avg_duration)\n",
        "plt.xticks(np.arange(0, len(month), 12), years)\n",
        "plt.title(\"Průměrná délka vnitrostátního letu (v hodinách)\", fontsize=12)\n",
        "\n",
        "plt.subplot(122)\n",
        "plt.plot(month, avg_on_board)\n",
        "plt.xticks(np.arange(0, len(month), 12), years)\n",
        "plt.title(\"Průměrný počet pasažérů na palubě letadla\", fontsize=12)\n",
        "\n",
        "plt.show()"
      ],
      "metadata": {
        "id": "9pc-46Uhr_B6"
      },
      "execution_count": null,
      "outputs": []
    },
    {
      "cell_type": "markdown",
      "source": [
        "Když potřebujeme zjistit určité údaje, které v původní datové sadě nejsou obsaženy, můžeme si je spočítat z údajů, které máme k dispozici.\n",
        "\n",
        "V těchto liniových grafech je vizualizovaný vývoj průměrné délky vnitrostátního letu a vývoj průměrného počtu pasažérů na palubě letadla během posledních 10 fiskálních let. Můžeme vidět, že lety jsou rok od roku průměrně o něco delší, zatímco průměrný počet pasažérů na palubě značně kolísá, ale v poslední době má spíše rostoucí trend."
      ],
      "metadata": {
        "id": "UkDym5d6sJq8"
      }
    }
  ]
}