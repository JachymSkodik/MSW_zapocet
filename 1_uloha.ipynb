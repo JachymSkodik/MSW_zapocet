{
  "nbformat": 4,
  "nbformat_minor": 0,
  "metadata": {
    "colab": {
      "provenance": []
    },
    "kernelspec": {
      "name": "python3",
      "display_name": "Python 3"
    },
    "language_info": {
      "name": "python"
    }
  },
  "cells": [
    {
      "cell_type": "markdown",
      "source": [
        "# **Úloha 1 – Knihovny a moduly pro matematické výpočty**"
      ],
      "metadata": {
        "id": "JwDL1XEhnEs2"
      }
    },
    {
      "cell_type": "code",
      "execution_count": 1,
      "metadata": {
        "id": "vajz6Thim2yr"
      },
      "outputs": [],
      "source": [
        "### Výpočet určitého integrálu\n",
        "\n",
        "import math\n",
        "import sympy\n",
        "import scipy.integrate\n",
        "import timeit"
      ]
    },
    {
      "cell_type": "markdown",
      "source": [
        "$$\\int_{0}^{\\frac{π}{2}}{\\cos{(x)} \\, dx}$$"
      ],
      "metadata": {
        "id": "6t5XaWcWnQOR"
      }
    },
    {
      "cell_type": "code",
      "source": [
        "# Standardní Python\n",
        "def integrate_standard(a, b):\n",
        "    result = 0\n",
        "    dx = 0.0001\n",
        "    x = a\n",
        "    while x < b:\n",
        "        result += math.cos(x) * dx\n",
        "        x += dx\n",
        "    return result\n",
        "\n",
        "# SymPy\n",
        "def integrate_sympy(a, b):\n",
        "    x = sympy.Symbol(\"x\")\n",
        "    f = sympy.cos(x)\n",
        "    result = sympy.integrate(f, (x, a, b))\n",
        "    return result\n",
        "\n",
        "# SciPy\n",
        "def integrate_scipy(a, b):\n",
        "    result, _ = scipy.integrate.quad(math.cos, a, b)\n",
        "    return result\n",
        "\n",
        "a = 0\n",
        "b = math.pi/2\n",
        "\n",
        "# Měření doby pro výpočet určitého integrálu\n",
        "for m, method in [(\"Standardní Python\", integrate_standard), (\"SymPy\", integrate_sympy), (\"SciPy\", integrate_scipy)]:\n",
        "    print(f\"{m} | výsledek: {method(a, b)} | chyba: {method(a, b) - 1} | doba řešení: {1000*round(timeit.timeit(lambda: method(a, b), number=10), 8)} ms\\n\")"
      ],
      "metadata": {
        "colab": {
          "base_uri": "https://localhost:8080/"
        },
        "id": "lLCkNrjsnUm-",
        "outputId": "354b6884-96e5-4476-c069-6a7fee28c5d8"
      },
      "execution_count": 2,
      "outputs": [
        {
          "output_type": "stream",
          "name": "stdout",
          "text": [
            "Standardní Python | výsledek: 1.0000499993436756 | chyba: 4.999934367555525e-05 | doba řešení: 44.87592 ms\n",
            "\n",
            "SymPy | výsledek: 1.00000000000000 | chyba: 0 | doba řešení: 228.56668 ms\n",
            "\n",
            "SciPy | výsledek: 0.9999999999999999 | chyba: -1.1102230246251565e-16 | doba řešení: 0.09768 ms\n",
            "\n"
          ]
        }
      ]
    },
    {
      "cell_type": "code",
      "source": [
        "### Součet náhodných čísel\n",
        "\n",
        "import timeit\n",
        "import random\n",
        "import numpy as np\n",
        "\n",
        "# Standardní Python\n",
        "def sum_random(n):\n",
        "    result = 0\n",
        "    for i in range(n):\n",
        "        result += random.random()\n",
        "    return result\n",
        "\n",
        "# Numpy\n",
        "def np_sum_random(n):\n",
        "    return np.sum(np.random.rand(n))\n",
        "\n",
        "\n",
        "n = 1000000\n",
        "\n",
        "# Měření doby výpočtu pro součet 1000000 náhodných čísel\n",
        "for m, method in [(\"Standardní Python\", sum_random), (\"NumPy\", np_sum_random)]:\n",
        "    print(f\"{m} | výsledek: {method(n)} | doba řešení: {1000*round(timeit.timeit(lambda: method(n), number=10), 8)} ms\\n\")"
      ],
      "metadata": {
        "colab": {
          "base_uri": "https://localhost:8080/"
        },
        "id": "GGCVqk-QptPP",
        "outputId": "6b75785d-a2e5-49c7-9fd8-610dc2fcbcbe"
      },
      "execution_count": 3,
      "outputs": [
        {
          "output_type": "stream",
          "name": "stdout",
          "text": [
            "Standardní Python | výsledek: 500018.49446320604 | doba řešení: 2349.31732 ms\n",
            "\n",
            "NumPy | výsledek: 499970.3710656482 | doba řešení: 193.56466 ms\n",
            "\n"
          ]
        }
      ]
    },
    {
      "cell_type": "code",
      "source": [
        "### Výpočet determinantu matice\n",
        "\n",
        "import timeit\n",
        "import random\n",
        "import numpy as np\n",
        "\n",
        "# Standardní Python\n",
        "def standard_matrix(size):\n",
        "    matrix = [[random.randint(0, 10) for x in range(size)] for y in range(size)]\n",
        "    determinant = 1\n",
        "    for i in range(size):\n",
        "\n",
        "        if matrix[i][i] == 0:\n",
        "            for j in range(i + 1, size):\n",
        "                if matrix[j][i] != 0:\n",
        "                    matrix[i], matrix[j] = matrix[j], matrix[i]\n",
        "                    determinant *= -1\n",
        "                    break\n",
        "\n",
        "        if matrix[i][i] == 0:\n",
        "            return 0\n",
        "\n",
        "        for j in range(i + 1, size):\n",
        "            factor = matrix[j][i] / matrix[i][i]\n",
        "            for k in range(i, size):\n",
        "                matrix[j][k] -= factor * matrix[i][k]\n",
        "\n",
        "        determinant *= matrix[i][i]\n",
        "\n",
        "    return determinant\n",
        "\n",
        "# Numpy\n",
        "def numpy_matrix(size):\n",
        "    matrix = np.random.randint(0, 10, size=(size, size))\n",
        "    determinant = np.linalg.det(matrix)\n",
        "    return determinant\n",
        "\n",
        "\n",
        "size = 200\n",
        "\n",
        "# Měření doby výpočtu determinantu velké matice 200x200\n",
        "for m, method in [(\"Standardní Python\", standard_matrix), (\"NumPy\", numpy_matrix)]:\n",
        "    print(f\"{m} | výsledek: {method(size)} | doba řešení: {1000*round(timeit.timeit(lambda: method(size), number=10), 8)} ms\\n\")"
      ],
      "metadata": {
        "colab": {
          "base_uri": "https://localhost:8080/"
        },
        "id": "v_LdLGD3puF-",
        "outputId": "b8960714-7411-4602-936c-a0c75294cc7e"
      },
      "execution_count": 4,
      "outputs": [
        {
          "output_type": "stream",
          "name": "stdout",
          "text": [
            "Standardní Python | výsledek: 1.0348022725667043e+288 | doba řešení: 14258.93714 ms\n",
            "\n",
            "NumPy | výsledek: 1.9033272164543135e+278 | doba řešení: 187.67958000000002 ms\n",
            "\n"
          ]
        }
      ]
    },
    {
      "cell_type": "code",
      "source": [
        "### Skalární součin dvou vektorů\n",
        "\n",
        "import timeit\n",
        "import numpy as np\n",
        "\n",
        "# Standardní Python\n",
        "def standard_scalar(u, v):\n",
        "    n = len(u)\n",
        "    product = 0\n",
        "    for i in range(n):\n",
        "        product += u[i] * v[i]\n",
        "    return product\n",
        "\n",
        "# Numpy\n",
        "def numpy_scalar(u, v):\n",
        "    return np.dot(u, v)\n",
        "\n",
        "\n",
        "u = [random.uniform(-100, 100) for i in range(1000000)]\n",
        "v = [random.uniform(-100, 100) for i in range(1000000)]\n",
        "\n",
        "# Měření doby výpočtu skalárního součinu dvou velkých vektorů\n",
        "for m, method in [(\"Standardní Python\", standard_scalar), (\"NumPy\", numpy_scalar)]:\n",
        "    print(f\"{m} | výsledek: {method(u, v)} | doba řešení: {1000*round(timeit.timeit(lambda: method(u, v), number=10), 8)} ms\\n\")"
      ],
      "metadata": {
        "colab": {
          "base_uri": "https://localhost:8080/"
        },
        "id": "TRHCO687pw3Z",
        "outputId": "e8622dc7-239b-4298-ea96-498740d839e2"
      },
      "execution_count": 5,
      "outputs": [
        {
          "output_type": "stream",
          "name": "stdout",
          "text": [
            "Standardní Python | výsledek: -2306870.3284041053 | doba řešení: 2832.44693 ms\n",
            "\n",
            "NumPy | výsledek: -2306870.328404126 | doba řešení: 2351.65525 ms\n",
            "\n"
          ]
        }
      ]
    },
    {
      "cell_type": "code",
      "source": [
        "### Hledání prvních 10000 prvočísel\n",
        "\n",
        "import timeit\n",
        "from sympy import primerange\n",
        "\n",
        "# Standardní Python\n",
        "def standard_primes(size):\n",
        "\n",
        "    def is_prime(n):\n",
        "        if n <= 1:\n",
        "            return False\n",
        "        for i in range(2, int(n**0.5) + 1):\n",
        "            if n % i == 0:\n",
        "                return False\n",
        "        return True\n",
        "\n",
        "    prime_list = []\n",
        "    n = 2\n",
        "    while len(prime_list) < size:\n",
        "        if is_prime(n):\n",
        "            prime_list.append(n)\n",
        "        n += 1\n",
        "    \n",
        "    return prime_list\n",
        "\n",
        "# Sympy\n",
        "def sympy_primes(size):\n",
        "    prime_list = list(primerange(2, size*15))[:size]\n",
        "    return prime_list\n",
        "\n",
        "\n",
        "size = 10000\n",
        "\n",
        "# Měření doby hledání prvních 10000 prvočísel\n",
        "for m, method in [(\"Standardní Python\", standard_primes), (\"SymPy\", sympy_primes)]:\n",
        "    print(f\"{m} | počet prvočísel: {len(method(size))} | doba řešení: {1000*round(timeit.timeit(lambda: method(size), number=10), 8)} ms\\n\")"
      ],
      "metadata": {
        "colab": {
          "base_uri": "https://localhost:8080/"
        },
        "id": "tt-D63HPpzfb",
        "outputId": "6d69af99-70db-4734-962a-e50db38efa2f"
      },
      "execution_count": 6,
      "outputs": [
        {
          "output_type": "stream",
          "name": "stdout",
          "text": [
            "Standardní Python | počet prvočísel: 10000 | doba řešení: 2048.04952 ms\n",
            "\n",
            "SymPy | počet prvočísel: 10000 | doba řešení: 1747.5024400000002 ms\n",
            "\n"
          ]
        }
      ]
    }
  ]
}